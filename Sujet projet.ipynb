{
 "cells": [
  {
   "cell_type": "markdown",
   "metadata": {},
   "source": [
    "# Prédire le cours du Bitcoin\n",
    "\n",
    "Durant les 12 heures de TP de ce cours, vous aurez pour objectif de construire un prédicteur du cours du Bitcoin.\n",
    "\n",
    "## Valeure du Bitcoin\n",
    "\n",
    "Soit un jeu ayant un très grand nombre de joueurs. Ce jeu consiste à s'enrichir, pour ce faire, les joueurs ont que deux actions possibles :\n",
    "\n",
    "**acheter** du Bitcoin et **vendre** du Bitcoin.\n",
    "\n",
    "_PS : Il existe aussi une autre action qu'est le minage mais cela est devenu peu rentable depuis un moment et sera donc ignoré dans le reste du document._\n",
    "\n",
    "Pour cela chaque joueur à la possibilité de placer des commandes d'achat ou de vente dans un livre de commande. Lorsque un prix d'achat rejoins un prix de vente, alors une transaction s'effectue.\n",
    "\n",
    "Mais alors à quoi correspond la valeure du Bitcoin ? Celle-ci est représenté par le prix de rencontre de l'offre et la demande du livre de commande.\n",
    "\n",
    "## Avoir un prédicteur efficace est illusoire\n",
    "\n",
    "Supposons qu'il existe un prédicteur efficace. Sachant exactement le futur du cours du Bitcoin, il n'est pas nécessaire de prendre de risque.\n",
    "\n",
    "Si la prédiction prédit une auguementation, alors il y a aura beaucoup de demande pour aucune offre. N'ayant pas d'offre alors l'auguementation ne peut avoir lieux.\n",
    "\n",
    "Ceci est vrai si tout le monde à ce prédicteur, cependant même si une seule personne à ce prédicteur, il arrivera un moment ou cette personne aura accumulé la majorité des Bitcoin ce qui reviendra à la situation précédemment évoqué.\n",
    "\n",
    "## Peut on gagner de l'argent ?\n",
    "\n",
    "Oui mais cela signifie que quelqu'un en a perdu.\n",
    "En effet, il n'y a pas d'argent magique, comment il n'y a aucune production de faite, l'argent gagné lors de transactions sont dû à la perte d'une ou plusieurs personnes. S'enrichir avec du trading reviens à parier.\n",
    "\n",
    "Les vrais gagnant sont les plateformes de transaction qui prennent des commissions sur les transactions.\n",
    "\n",
    "## Les données\n",
    "\n",
    "Des données filtrées et agrégées pour entrainer vos algorithmes vous sont fournies sur Celene, cependant il est possible d’en récolter de nouvelles brute via l’api Python de la plateforme Coinbase pro.\n",
    "\n",
    "Pour installer l'api :"
   ]
  },
  {
   "cell_type": "code",
   "execution_count": null,
   "metadata": {},
   "outputs": [],
   "source": [
    "#pip install cbpro # rajouter un ! au début pour l'installer via le notebook\n",
    "#pip install gdax # rajouter un ! au début pour l'installer via le notebook"
   ]
  },
  {
   "cell_type": "markdown",
   "metadata": {},
   "source": [
    "[documentation de l'api](https://docs.pro.coinbase.com/)\n",
    "\n",
    "## Outils conseillés\n",
    "- La bibliothèque [pandas](https://pandas.pydata.org/docs/user_guide/index.html) est idéale pour l'utilisation d'une base de donnée.\n",
    "- La bibliothèque [numpy](https://numpy.org/doc/1.18/user/index.html) est parfait pour tout calculs sur des vecteurs.\n",
    "- La bibliothèque [matplotlib](https://matplotlib.org/contents.html) est la base pour visualiser des résultats mais accouplé à [seaborn](https://seaborn.pydata.org/index.html) il est possible d'aller plus vite.\n",
    "- Le bibliothèque [math](https://docs.python.org/fr/3.9/library/math.html) est souvent oublié tellement elle semble évidente."
   ]
  },
  {
   "cell_type": "code",
   "execution_count": null,
   "metadata": {},
   "outputs": [],
   "source": [
    "import pandas as pd\n",
    "import numpy as np\n",
    "import matplotlib.pyplot as plt\n",
    "import seaborn as sb\n",
    "import math"
   ]
  },
  {
   "cell_type": "markdown",
   "metadata": {},
   "source": [
    "## L'évaluation\n",
    "Les circonstances actuelles rendent difficile les évaluations de type examen écrit. C'est pour cela que la note de ce module est supposé se baser uniquement sur ce projet de TP pour mon plus grand désarrois (tant de TP à corriger...). Il va s'en dire qu'il reste important d'évaluer sous divers angles vos compétences. L'évaluation est donc construite de la sorte :\n",
    "- Une note sur la qualité de la prédiction (le système de notation sera sur le principe d'un concours avec plusieurs catégories). /5\n",
    "- Une note sur la qualité du code rendu (commentaires, interopérabilité) /5\n",
    "- Une note sur l'argumentation des choix déterminant de l'architecture de vos algorithmes et de leurs entrainement. /10"
   ]
  },
  {
   "cell_type": "markdown",
   "metadata": {},
   "source": [
    "## [Série Temporelle](https://fr.wikipedia.org/wiki/S%C3%A9rie_temporelle)\n",
    "\n",
    "Une série temporelle est une suite numérique représentant l'évolution de variables en fonction du temps.\n",
    "- Il existe des séries temporelles univariée et des séries temporelles multivariées.\n",
    "- De même l'écart de temps entre chaque élément de la série peut varier. \n",
    "\n",
    "La série temporelle est un outil de réprésentation de données.\n",
    "Les modélisations mathématique d'une série temporelle sont multiple :\n",
    "- [chaine de Markov](https://fr.wikipedia.org/wiki/Cha%C3%AEne_de_Markov)\n",
    "- système dynamique\n",
    "- fonction polynomiale\n",
    "- composé de fonction périodique\n",
    "- ...\n",
    "\n",
    "### Prévision\n",
    "\n",
    "Depuis plus d'un siècle les économistes, les physiciens et les biologistes tentent de prédire l'évolution des séries temporelles.\n",
    "\n",
    "Pour cela les mathématiciens ont proposé une approche dite [ajustement à la courbe](https://fr.wikipedia.org/wiki/Ajustement_de_courbe) :\n",
    "- [Interpolation](https://fr.wikipedia.org/wiki/Interpolation_num%C3%A9rique) (Newtonienne, Lagrangienne,...)\n",
    "- Régression (linéaire, polynomiale,...)\n",
    "- Transformé (Laplace, Fourier,...)\n",
    "- Système dynamique\n",
    "\n",
    "Quant aux informaticiens, les idées se sont tournée vers de la modélisation à base de règles :\n",
    "- Automates et chaines de Markov\n",
    "- Abre de décisions\n",
    "\n",
    "### Metadonnées\n",
    "Les metadonnées sont des données extérieures que l'on ne cherche pas à prédire mais qui influence la prédiction.\n",
    "Elles sont régulièrement des données difficiallement quantifiable (exemple : réforme politique, catastrophe naturelle, nouveau concurent, ...)"
   ]
  },
  {
   "cell_type": "markdown",
   "metadata": {},
   "source": [
    "## [Perceptron](https://fr.wikipedia.org/wiki/Perceptron)\n",
    "La première tâche de votre TP sera de proposer un Perceptron permettant de donner une prédiction binaire du cours du Bitcoin : **Augmentation** ou **diminution**\n",
    "\n",
    "Le Perceptron est tel un **neurone** mais c'est surtout une **régression linéaire**."
   ]
  },
  {
   "cell_type": "code",
   "execution_count": null,
   "metadata": {},
   "outputs": [],
   "source": []
  },
  {
   "cell_type": "markdown",
   "metadata": {},
   "source": [
    "### Normalisation\n",
    "- Contraction ou dilatation\n",
    "- Translation"
   ]
  },
  {
   "cell_type": "markdown",
   "metadata": {},
   "source": []
  },
  {
   "cell_type": "markdown",
   "metadata": {},
   "source": [
    "### Erreur\n",
    "- [Moindre carré](https://fr.wikipedia.org/wiki/M%C3%A9thode_des_moindres_carr%C3%A9s)\n",
    "- [Entropie croisée](https://fr.wikipedia.org/wiki/Entropie_crois%C3%A9e)"
   ]
  },
  {
   "cell_type": "markdown",
   "metadata": {},
   "source": []
  },
  {
   "cell_type": "markdown",
   "metadata": {},
   "source": [
    "### Biais et transformation non linéaire\n",
    "- Le biais est une entrée factice de valeur 1 permettant la translation de la droite de séparation.\n",
    "- Les données ne sont pas toujours séparable de façon satisfaisante par une droite. Pour régler cela il est parfois suffisant de transformer l'espace par une fonction mathématique non linéaire."
   ]
  },
  {
   "cell_type": "markdown",
   "metadata": {},
   "source": []
  },
  {
   "cell_type": "markdown",
   "metadata": {},
   "source": [
    "### [Fonction d'activation](https://fr.wikipedia.org/wiki/Fonction_d%27activation)\n",
    "- Sigmoïde $$\\frac{1}{1+e^{-x}}$$\n",
    "- Tangente hyperbolique $$\\frac{1}{1+e^{-2x}} + 1$$"
   ]
  },
  {
   "cell_type": "markdown",
   "metadata": {},
   "source": []
  },
  {
   "cell_type": "markdown",
   "metadata": {},
   "source": [
    "### [Algorithme du gradient stochastique](https://fr.wikipedia.org/wiki/Algorithme_du_gradient_stochastique)\n",
    "L'algorithme du gradient stochastique consiste à effectuer chaque itération d'une décente de gradient sur un sous ensemble de l'ensemble d'entrainement.\n",
    "- La taille et la sélection du sous ensemble\n",
    "- Le pas de l'itération / le taux d'apprentissage"
   ]
  },
  {
   "cell_type": "markdown",
   "metadata": {},
   "source": []
  },
  {
   "cell_type": "markdown",
   "metadata": {},
   "source": [
    "### [Validation croisée](https://fr.wikipedia.org/wiki/Validation_crois%C3%A9e)\n",
    "Pour évaluer la qualité d'un prédicteur, la méthode de validation croisée est importante car il permet d'éviter le surapprentissage."
   ]
  },
  {
   "cell_type": "markdown",
   "metadata": {},
   "source": []
  },
  {
   "cell_type": "markdown",
   "metadata": {},
   "source": [
    "## [Abre de décision](https://fr.wikipedia.org/wiki/Arbre_de_d%C3%A9cision_(apprentissage)#cite_ref-7) avec [renforcement par gradient](https://en.wikipedia.org/wiki/Gradient_boosting)\n",
    "Votre deuxième tâche est de proposer un arbre de décision renforcé par un algorithme de gradient permettant de donner une prédiction binaire du cours du Bitcoin : **Augmentation** ou **diminution**"
   ]
  },
  {
   "cell_type": "code",
   "execution_count": null,
   "metadata": {},
   "outputs": [],
   "source": []
  },
  {
   "cell_type": "markdown",
   "metadata": {},
   "source": [
    "### Erreur\n",
    "- [Moindre carré](https://fr.wikipedia.org/wiki/M%C3%A9thode_des_moindres_carr%C3%A9s)\n",
    "- [Entropie croisée](https://fr.wikipedia.org/wiki/Entropie_crois%C3%A9e)"
   ]
  },
  {
   "cell_type": "markdown",
   "metadata": {},
   "source": []
  },
  {
   "cell_type": "markdown",
   "metadata": {},
   "source": [
    "### Sélection de la variable de séparation \n",
    "- Indice de diversité de Gini\n",
    "- [Entropie de Shannon](https://fr.wikipedia.org/wiki/Entropie_de_Shannon)"
   ]
  },
  {
   "cell_type": "markdown",
   "metadata": {},
   "source": []
  },
  {
   "cell_type": "markdown",
   "metadata": {},
   "source": [
    "### Décente de gradient\n",
    "- nombre d'itération\n",
    "- Le pas de l'itération / le taux d'apprentissage"
   ]
  },
  {
   "cell_type": "markdown",
   "metadata": {},
   "source": []
  },
  {
   "cell_type": "markdown",
   "metadata": {},
   "source": [
    "### [Validation croisée](https://fr.wikipedia.org/wiki/Validation_crois%C3%A9e)\n",
    "Pour évaluer la qualité d'un prédicteur, la méthode de validation croisée est importante car il permet d'éviter le surapprentissage."
   ]
  },
  {
   "cell_type": "markdown",
   "metadata": {},
   "source": []
  },
  {
   "cell_type": "markdown",
   "metadata": {},
   "source": [
    "## [Réseau de neurones](https://fr.wikipedia.org/wiki/R%C3%A9seau_de_neurones_artificiels)\n",
    "Votre troisième tâche **(choix 1)** est de construire un réseau de neurones permettant de donner une prédiction binaire du cours du Bitcoin : **Augmentation** ou **diminution**"
   ]
  },
  {
   "cell_type": "code",
   "execution_count": null,
   "metadata": {},
   "outputs": [],
   "source": []
  },
  {
   "cell_type": "markdown",
   "metadata": {},
   "source": [
    "### Normalisation\n",
    "- Contraction ou dilatation\n",
    "- Translation"
   ]
  },
  {
   "cell_type": "markdown",
   "metadata": {},
   "source": []
  },
  {
   "cell_type": "markdown",
   "metadata": {},
   "source": [
    "### Erreur\n",
    "- [Moindre carré](https://fr.wikipedia.org/wiki/M%C3%A9thode_des_moindres_carr%C3%A9s)\n",
    "- [Entropie croisée](https://fr.wikipedia.org/wiki/Entropie_crois%C3%A9e)"
   ]
  },
  {
   "cell_type": "markdown",
   "metadata": {},
   "source": []
  },
  {
   "cell_type": "markdown",
   "metadata": {},
   "source": [
    "### Biais et transformation non linéaire\n",
    "- Le biais est une entrée factice de valeur 1 permettant la translation de la droite de séparation.\n",
    "- Les données ne sont pas toujours séparable de façon satisfaisante par une droite. Pour régler cela il est parfois suffisant de transformer l'espace par une fonction mathématique non linéaire."
   ]
  },
  {
   "cell_type": "markdown",
   "metadata": {},
   "source": []
  },
  {
   "cell_type": "markdown",
   "metadata": {},
   "source": [
    "### [Fonction d'activation](https://fr.wikipedia.org/wiki/Fonction_d%27activation)\n",
    "- Sigmoïde $$\\frac{1}{1+e^{-x}}$$\n",
    "- Tangente hyperbolique $$\\frac{1}{1+e^{-2x}} + 1$$"
   ]
  },
  {
   "cell_type": "markdown",
   "metadata": {},
   "source": []
  },
  {
   "cell_type": "markdown",
   "metadata": {},
   "source": [
    "### [Algorithme du gradient stochastique](https://fr.wikipedia.org/wiki/Algorithme_du_gradient_stochastique)\n",
    "L'algorithme du gradient stochastique consiste à effectuer chaque itération d'une décente de gradient sur un sous ensemble de l'ensemble d'entrainement.\n",
    "- La taille et la sélection du sous ensemble\n",
    "- Le pas de l'itération / le taux d'apprentissage"
   ]
  },
  {
   "cell_type": "code",
   "execution_count": null,
   "metadata": {},
   "outputs": [],
   "source": []
  },
  {
   "cell_type": "markdown",
   "metadata": {},
   "source": [
    "### Architecture\n",
    "- Nombre de neurones par couche\n",
    "- Nombre de couches\n",
    "- Connections entre les neurones"
   ]
  },
  {
   "cell_type": "markdown",
   "metadata": {},
   "source": []
  },
  {
   "cell_type": "markdown",
   "metadata": {},
   "source": [
    "## [Forêt d'arbres décisionnels](https://fr.wikipedia.org/wiki/For%C3%AAt_d%27arbres_d%C3%A9cisionnels)\n",
    "Votre troisième tâche **(choix 2)** est de construire une forêt d'arbres décisionnels permettant de donner une prédiction binaire du cours du Bitcoin : **Augmentation** ou **diminution**"
   ]
  },
  {
   "cell_type": "code",
   "execution_count": null,
   "metadata": {},
   "outputs": [],
   "source": []
  },
  {
   "cell_type": "markdown",
   "metadata": {},
   "source": [
    "### Erreur\n",
    "- [Moindre carré](https://fr.wikipedia.org/wiki/M%C3%A9thode_des_moindres_carr%C3%A9s)\n",
    "- [Entropie croisée](https://fr.wikipedia.org/wiki/Entropie_crois%C3%A9e)"
   ]
  },
  {
   "cell_type": "markdown",
   "metadata": {},
   "source": []
  },
  {
   "cell_type": "markdown",
   "metadata": {},
   "source": [
    "### Sélection de la variable de séparation \n",
    "- Indice de diversité de Gini\n",
    "- [Entropie de Shannon](https://fr.wikipedia.org/wiki/Entropie_de_Shannon)"
   ]
  },
  {
   "cell_type": "markdown",
   "metadata": {},
   "source": []
  },
  {
   "cell_type": "markdown",
   "metadata": {},
   "source": [
    "### Décente de gradient\n",
    "- nombre d'itération\n",
    "- Le pas de l'itération / le taux d'apprentissage"
   ]
  },
  {
   "cell_type": "markdown",
   "metadata": {},
   "source": []
  },
  {
   "cell_type": "markdown",
   "metadata": {},
   "source": [
    "### [Validation croisée](https://fr.wikipedia.org/wiki/Validation_crois%C3%A9e)\n",
    "Pour évaluer la qualité d'un prédicteur, la méthode de validation croisée est importante car il permet d'éviter le surapprentissage."
   ]
  },
  {
   "cell_type": "markdown",
   "metadata": {},
   "source": []
  }
 ],
 "metadata": {
  "kernelspec": {
   "display_name": "Python 3",
   "language": "python",
   "name": "python3"
  },
  "language_info": {
   "codemirror_mode": {
    "name": "ipython",
    "version": 3
   },
   "file_extension": ".py",
   "mimetype": "text/x-python",
   "name": "python",
   "nbconvert_exporter": "python",
   "pygments_lexer": "ipython3",
   "version": "3.7.4"
  }
 },
 "nbformat": 4,
 "nbformat_minor": 2
}
